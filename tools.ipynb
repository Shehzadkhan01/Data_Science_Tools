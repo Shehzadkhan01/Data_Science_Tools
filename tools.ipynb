{
 "cells": [
  {
   "cell_type": "markdown",
   "id": "908f807c-4d0c-4515-9776-e11417ac1dbe",
   "metadata": {},
   "source": [
    "# Data Science Tools and Ecosystem\r\n"
   ]
  },
  {
   "cell_type": "markdown",
   "id": "eaa0e05f-d248-4447-9460-8095dab36b34",
   "metadata": {},
   "source": [
    "## Introduction\n",
    "In this notebook, we will explore some of the essential tools, languages, and libraries used in Data Science.\n"
   ]
  },
  {
   "cell_type": "markdown",
   "id": "d70641a4-2f6d-4889-8aa4-03c3a6d5228f",
   "metadata": {},
   "source": [
    "### Data Science Languages\r\n",
    "- Python\r\n",
    "- R\r\n",
    "- SQL\r\n",
    "- Julia\r\n",
    "- Scala\r\n"
   ]
  },
  {
   "cell_type": "markdown",
   "id": "28169ab9-eef2-415f-8060-5c02bd32eaf8",
   "metadata": {},
   "source": [
    "### Data Science Libraries\n",
    "- Pandas\n",
    "- NumPy\n",
    "- Scikit-learn\n",
    "- TensorFlow\n",
    "- Keras\n",
    "- PyTorch\n"
   ]
  },
  {
   "cell_type": "markdown",
   "id": "45e51d81-3f8c-4dda-abb6-5df9a82f38c0",
   "metadata": {},
   "source": [
    "### Data Science Tools\n",
    "| Tool           | Purpose                 |\n",
    "|----------------|-------------------------|\n",
    "| Jupyter Notebook | Interactive Coding    |\n",
    "| RStudio        | R Programming          |\n",
    "| Apache Hadoop  | Big Data Processing    |\n",
    "| Tableau        | Data Visualization     |\n"
   ]
  },
  {
   "cell_type": "markdown",
   "id": "4b80ff99-08f0-48ed-be5a-248c11d1b719",
   "metadata": {},
   "source": [
    "### Arithmetic Expression Examples\r\n",
    "Below are some examples of basic arithmetic operations.\r\n"
   ]
  },
  {
   "cell_type": "markdown",
   "id": "c70060b6-4551-407e-a6cc-fc9195512377",
   "metadata": {},
   "source": [
    "# Multiplication and addition\r\n",
    "result = (5 * 4) + 2\r\n",
    "result\r\n"
   ]
  },
  {
   "cell_type": "markdown",
   "id": "8629babd-daba-4f00-88c9-61b4c4b64a9b",
   "metadata": {},
   "source": [
    "# Convert minutes to hours\r\n",
    "minutes = 120\r\n",
    "hours = minutes / 60\r\n",
    "hours\r\n"
   ]
  },
  {
   "cell_type": "markdown",
   "id": "68c682aa-969d-4535-9d81-d6fbd8370b40",
   "metadata": {},
   "source": [
    "### Objectives\r\n",
    "- List popular languages for data science.\r\n",
    "- Identify libraries commonly used in data science.\r\n",
    "- Understand tools used for data processing and analysis.\r\n",
    "- Perform basic arithmetic operations in Python.\r\n"
   ]
  },
  {
   "cell_type": "markdown",
   "id": "d54ba486-fb8e-4117-b40b-b0554962d375",
   "metadata": {},
   "source": [
    "### Author\r\n",
    "John Doe\r\n"
   ]
  },
  {
   "cell_type": "code",
   "execution_count": null,
   "id": "495a1145-8ce3-4c5f-ad98-7ce4a57d606a",
   "metadata": {},
   "outputs": [],
   "source": []
  }
 ],
 "metadata": {
  "kernelspec": {
   "display_name": "Python 3 (ipykernel)",
   "language": "python",
   "name": "python3"
  },
  "language_info": {
   "codemirror_mode": {
    "name": "ipython",
    "version": 3
   },
   "file_extension": ".py",
   "mimetype": "text/x-python",
   "name": "python",
   "nbconvert_exporter": "python",
   "pygments_lexer": "ipython3",
   "version": "3.12.4"
  }
 },
 "nbformat": 4,
 "nbformat_minor": 5
}
